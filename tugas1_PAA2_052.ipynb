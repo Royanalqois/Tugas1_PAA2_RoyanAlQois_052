{
  "nbformat": 4,
  "nbformat_minor": 0,
  "metadata": {
    "colab": {
      "provenance": []
    },
    "kernelspec": {
      "name": "python3",
      "display_name": "Python 3"
    },
    "language_info": {
      "name": "python"
    }
  },
  "cells": [
    {
      "cell_type": "code",
      "execution_count": 1,
      "metadata": {
        "colab": {
          "base_uri": "https://localhost:8080/"
        },
        "id": "n0PDnZQjIOEQ",
        "outputId": "6ed14eb4-a6d1-4874-d4fc-2cba57f3f264"
      },
      "outputs": [
        {
          "output_type": "stream",
          "name": "stdout",
          "text": [
            "Sebelum pengurutan: [64, 34, 25, 12, 22, 11, 90]\n",
            "Setelah pengurutan: [11, 12, 22, 25, 34, 64, 90]\n"
          ]
        }
      ],
      "source": [
        "# bubble sort\n",
        "def bubble_sort(arr):\n",
        "    n = len(arr)\n",
        "    for i in range(n - 1):\n",
        "        for j in range(n - i - 1):\n",
        "            if arr[j] > arr[j + 1]:\n",
        "                arr[j], arr[j + 1] = arr[j + 1], arr[j]\n",
        "\n",
        "# Contoh penggunaan:\n",
        "arr = [64, 34, 25, 12, 22, 11, 90]\n",
        "print(\"Sebelum pengurutan:\", arr)\n",
        "bubble_sort(arr)\n",
        "print(\"Setelah pengurutan:\", arr)"
      ]
    },
    {
      "cell_type": "markdown",
      "source": [
        "Setelah semua iterasi selesai, array akan terurut secara ascending. Pada contoh di atas, array [64, 34, 25, 12, 22, 11, 90] akan diurutkan menjadi [11, 12, 22, 25, 34, 64, 90]."
      ],
      "metadata": {
        "id": "Eijj98aQIv2B"
      }
    },
    {
      "cell_type": "code",
      "source": [
        "# kode program TSP\n",
        "import itertools\n",
        "\n",
        "def calculate_distance(points, order):\n",
        "    distance = 0\n",
        "    for i in range(len(order) - 1):\n",
        "        start_point = order[i]\n",
        "        end_point = order[i + 1]\n",
        "        distance += points[start_point][end_point]\n",
        "    return distance\n",
        "\n",
        "def tsp_brute_force(points):\n",
        "    num_points = len(points)\n",
        "    best_order = None\n",
        "    min_distance = float('inf')\n",
        "\n",
        "    all_orders = list(itertools.permutations(range(num_points)))\n",
        "\n",
        "    for order in all_orders:\n",
        "        distance = calculate_distance(points, order)\n",
        "        if distance < min_distance:\n",
        "            min_distance = distance\n",
        "            best_order = order\n",
        "    \n",
        "    return best_order, min_distance\n",
        "\n",
        "# Contoh penggunaan:\n",
        "points = [\n",
        "    [0, 10, 15, 20],\n",
        "    [10, 0, 35, 25],\n",
        "    [15, 35, 0, 30],\n",
        "    [20, 25, 30, 0]\n",
        "]\n",
        "\n",
        "best_order, min_distance = tsp_brute_force(points)\n",
        "print(\"Urutan terbaik:\", best_order)\n",
        "print(\"Jarak terpendek:\", min_distance)\n"
      ],
      "metadata": {
        "colab": {
          "base_uri": "https://localhost:8080/"
        },
        "id": "2o4d8dfAIy4z",
        "outputId": "42df96dc-e9d6-428c-b3ac-97f7771e4a7e"
      },
      "execution_count": 2,
      "outputs": [
        {
          "output_type": "stream",
          "name": "stdout",
          "text": [
            "Urutan terbaik: (2, 0, 1, 3)\n",
            "Jarak terpendek: 50\n"
          ]
        }
      ]
    },
    {
      "cell_type": "markdown",
      "source": [
        "Pada contoh di atas, matriks points mewakili jarak antara 4 titik (indeks 0-3). Program akan mencari urutan terbaik dan jarak terpendek. Hasilnya akan ditampilkan di output. Perlu dicatat bahwa pendekatan Brute Force ini tidak efisien untuk masalah TSP dengan jumlah titik yang besar karena kompleksitasnya yang tinggi."
      ],
      "metadata": {
        "id": "RMK4pN_6JXWE"
      }
    }
  ]
}